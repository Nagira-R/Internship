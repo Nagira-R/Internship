{
  "nbformat": 4,
  "nbformat_minor": 0,
  "metadata": {
    "colab": {
      "provenance": [],
      "authorship_tag": "ABX9TyMtC7zHHc5jh395aB6yMNQR",
      "include_colab_link": true
    },
    "kernelspec": {
      "name": "python3",
      "display_name": "Python 3"
    },
    "language_info": {
      "name": "python"
    }
  },
  "cells": [
    {
      "cell_type": "markdown",
      "metadata": {
        "id": "view-in-github",
        "colab_type": "text"
      },
      "source": [
        "<a href=\"https://colab.research.google.com/github/Nagira-R/Internship/blob/main/Filling_missing_values.ipynb\" target=\"_parent\"><img src=\"https://colab.research.google.com/assets/colab-badge.svg\" alt=\"Open In Colab\"/></a>"
      ]
    },
    {
      "cell_type": "code",
      "execution_count": 17,
      "metadata": {
        "id": "JUc2tniEsj2A"
      },
      "outputs": [],
      "source": [
        "import pandas as pd\n",
        "import numpy as np\n",
        "\n",
        "\n"
      ]
    },
    {
      "cell_type": "code",
      "source": [
        "# Creating a sample dataset\n",
        "np.random.seed(42)\n",
        "data = {\n",
        "    'IP_Source': ['192.168.1.1', '192.168.1.2', '192.168.1.3', '192.168.1.4', '192.168.1.5', '192.168.1.6'],\n",
        "    'IP_Destination': ['192.168.1.10', '192.168.1.11', '192.168.1.12', '192.168.1.13', '192.168.1.14', '192.168.1.15'],\n",
        "    'Port': [80, 443, None, 22, None, 80],\n",
        "    'Protocol': ['TCP', 'UDP', None, 'TCP', 'TCP', None],\n",
        "    'Packet_Size': [500, None, 1500, None, 1200, 600]\n",
        "}\n",
        "\n"
      ],
      "metadata": {
        "id": "Lq1uo1l9sp8b"
      },
      "execution_count": 18,
      "outputs": []
    },
    {
      "cell_type": "code",
      "source": [
        "network_df = pd.DataFrame(data)\n",
        "print(\"Original Dataset with Missing Values:\")\n",
        "print(network_df)\n",
        "\n"
      ],
      "metadata": {
        "colab": {
          "base_uri": "https://localhost:8080/"
        },
        "id": "8nHoKMCTsuFH",
        "outputId": "ab25f75a-6a57-415a-ced7-203eab4d733b"
      },
      "execution_count": 19,
      "outputs": [
        {
          "output_type": "stream",
          "name": "stdout",
          "text": [
            "Original Dataset with Missing Values:\n",
            "     IP_Source IP_Destination   Port Protocol  Packet_Size\n",
            "0  192.168.1.1   192.168.1.10   80.0      TCP        500.0\n",
            "1  192.168.1.2   192.168.1.11  443.0      UDP          NaN\n",
            "2  192.168.1.3   192.168.1.12    NaN     None       1500.0\n",
            "3  192.168.1.4   192.168.1.13   22.0      TCP          NaN\n",
            "4  192.168.1.5   192.168.1.14    NaN      TCP       1200.0\n",
            "5  192.168.1.6   192.168.1.15   80.0     None        600.0\n"
          ]
        }
      ]
    },
    {
      "cell_type": "code",
      "source": [
        "# Filling numerical values with mean and median\n",
        "network_df['Port'].fillna(network_df['Port'].median(), inplace=True)\n",
        "network_df['Packet_Size'].fillna(network_df['Packet_Size'].mean(), inplace=True)"
      ],
      "metadata": {
        "colab": {
          "base_uri": "https://localhost:8080/"
        },
        "id": "-GnWilqItCt0",
        "outputId": "03a0d87d-6d36-45de-c006-4bd666ecb25f"
      },
      "execution_count": 22,
      "outputs": [
        {
          "output_type": "stream",
          "name": "stderr",
          "text": [
            "<ipython-input-22-c31b7159ca87>:2: FutureWarning: A value is trying to be set on a copy of a DataFrame or Series through chained assignment using an inplace method.\n",
            "The behavior will change in pandas 3.0. This inplace method will never work because the intermediate object on which we are setting values always behaves as a copy.\n",
            "\n",
            "For example, when doing 'df[col].method(value, inplace=True)', try using 'df.method({col: value}, inplace=True)' or df[col] = df[col].method(value) instead, to perform the operation inplace on the original object.\n",
            "\n",
            "\n",
            "  network_df['Port'].fillna(network_df['Port'].median(), inplace=True)\n",
            "<ipython-input-22-c31b7159ca87>:3: FutureWarning: A value is trying to be set on a copy of a DataFrame or Series through chained assignment using an inplace method.\n",
            "The behavior will change in pandas 3.0. This inplace method will never work because the intermediate object on which we are setting values always behaves as a copy.\n",
            "\n",
            "For example, when doing 'df[col].method(value, inplace=True)', try using 'df.method({col: value}, inplace=True)' or df[col] = df[col].method(value) instead, to perform the operation inplace on the original object.\n",
            "\n",
            "\n",
            "  network_df['Packet_Size'].fillna(network_df['Packet_Size'].mean(), inplace=True)\n"
          ]
        }
      ]
    },
    {
      "cell_type": "code",
      "source": [
        "# Filling categorical values with mode\n",
        "network_df['Protocol'].fillna(network_df['Protocol'].mode()[0], inplace=True)\n",
        "\n",
        "print(\"\\nDataset after Filling Missing Values:\")\n",
        "print(network_df)"
      ],
      "metadata": {
        "colab": {
          "base_uri": "https://localhost:8080/"
        },
        "id": "pEO2VWbEuR0U",
        "outputId": "a608c09c-f95f-4729-922f-a8293cc5cf7e"
      },
      "execution_count": 23,
      "outputs": [
        {
          "output_type": "stream",
          "name": "stdout",
          "text": [
            "\n",
            "Dataset after Filling Missing Values:\n",
            "     IP_Source IP_Destination   Port Protocol  Packet_Size\n",
            "0  192.168.1.1   192.168.1.10   80.0      TCP        500.0\n",
            "1  192.168.1.2   192.168.1.11  443.0      UDP        950.0\n",
            "2  192.168.1.3   192.168.1.12   80.0      TCP       1500.0\n",
            "3  192.168.1.4   192.168.1.13   22.0      TCP        950.0\n",
            "4  192.168.1.5   192.168.1.14   80.0      TCP       1200.0\n",
            "5  192.168.1.6   192.168.1.15   80.0      TCP        600.0\n"
          ]
        }
      ]
    }
  ]
}